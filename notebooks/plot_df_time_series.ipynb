{
 "cells": [
  {
   "metadata": {},
   "cell_type": "markdown",
   "source": "## Draw example time series: 3 DFs in a 3-week window from BPI2017",
   "id": "adfb7438085a9119"
  },
  {
   "cell_type": "code",
   "id": "initial_id",
   "metadata": {
    "collapsed": true,
    "ExecuteTime": {
     "end_time": "2025-04-23T12:20:16.625863Z",
     "start_time": "2025-04-23T12:20:16.620059Z"
    }
   },
   "source": [
    "import pandas as pd\n",
    "import matplotlib.pyplot as plt\n",
    "from pathlib import Path\n",
    "from matplotlib.backends.backend_pdf import PdfPages\n",
    "import seaborn as sns\n",
    "from pyarrow import dictionary"
   ],
   "outputs": [],
   "execution_count": 14
  },
  {
   "metadata": {
    "ExecuteTime": {
     "end_time": "2025-04-23T08:39:47.590142Z",
     "start_time": "2025-04-23T08:39:47.460634Z"
    }
   },
   "cell_type": "code",
   "source": [
    "# load time series data\n",
    "dataset = 'BPI2017'\n",
    "df = pd.read_hdf('../data/processed/time_series_df.h5', key=dataset)"
   ],
   "id": "6dea47b7dd4a6a2d",
   "outputs": [],
   "execution_count": 3
  },
  {
   "metadata": {
    "ExecuteTime": {
     "end_time": "2025-04-23T08:39:53.148556Z",
     "start_time": "2025-04-23T08:39:53.138693Z"
    }
   },
   "cell_type": "code",
   "source": "df",
   "id": "4d2f857971ba2a31",
   "outputs": [
    {
     "data": {
      "text/plain": [
       "                           ▶ -> O_Create Offer  O_Create Offer -> O_Created  \\\n",
       "2016-02-10 00:00:00+00:00                  113                          113   \n",
       "2016-02-11 00:00:00+00:00                  142                          142   \n",
       "2016-02-12 00:00:00+00:00                   73                           73   \n",
       "2016-02-13 00:00:00+00:00                   80                           80   \n",
       "2016-02-14 00:00:00+00:00                    0                            0   \n",
       "...                                        ...                          ...   \n",
       "2016-12-20 00:00:00+00:00                  148                          148   \n",
       "2016-12-21 00:00:00+00:00                  114                          114   \n",
       "2016-12-22 00:00:00+00:00                   89                           89   \n",
       "2016-12-23 00:00:00+00:00                   86                           86   \n",
       "2016-12-24 00:00:00+00:00                   18                           18   \n",
       "\n",
       "                           O_Created -> O_Sent (mail and online)  \\\n",
       "2016-02-10 00:00:00+00:00                                    104   \n",
       "2016-02-11 00:00:00+00:00                                    130   \n",
       "2016-02-12 00:00:00+00:00                                     66   \n",
       "2016-02-13 00:00:00+00:00                                     77   \n",
       "2016-02-14 00:00:00+00:00                                      0   \n",
       "...                                                          ...   \n",
       "2016-12-20 00:00:00+00:00                                    128   \n",
       "2016-12-21 00:00:00+00:00                                    101   \n",
       "2016-12-22 00:00:00+00:00                                     78   \n",
       "2016-12-23 00:00:00+00:00                                     76   \n",
       "2016-12-24 00:00:00+00:00                                     16   \n",
       "\n",
       "                           O_Sent (mail and online) -> O_Cancelled  \\\n",
       "2016-02-10 00:00:00+00:00                                       27   \n",
       "2016-02-11 00:00:00+00:00                                       52   \n",
       "2016-02-12 00:00:00+00:00                                       20   \n",
       "2016-02-13 00:00:00+00:00                                       34   \n",
       "2016-02-14 00:00:00+00:00                                        0   \n",
       "...                                                            ...   \n",
       "2016-12-20 00:00:00+00:00                                        7   \n",
       "2016-12-21 00:00:00+00:00                                        0   \n",
       "2016-12-22 00:00:00+00:00                                        2   \n",
       "2016-12-23 00:00:00+00:00                                        0   \n",
       "2016-12-24 00:00:00+00:00                                        1   \n",
       "\n",
       "                           O_Cancelled -> ■  \\\n",
       "2016-02-10 00:00:00+00:00                30   \n",
       "2016-02-11 00:00:00+00:00                62   \n",
       "2016-02-12 00:00:00+00:00                47   \n",
       "2016-02-13 00:00:00+00:00                12   \n",
       "2016-02-14 00:00:00+00:00                17   \n",
       "...                                     ...   \n",
       "2016-12-20 00:00:00+00:00                73   \n",
       "2016-12-21 00:00:00+00:00                23   \n",
       "2016-12-22 00:00:00+00:00               213   \n",
       "2016-12-23 00:00:00+00:00                87   \n",
       "2016-12-24 00:00:00+00:00                33   \n",
       "\n",
       "                           O_Sent (mail and online) -> O_Returned  \\\n",
       "2016-02-10 00:00:00+00:00                                      77   \n",
       "2016-02-11 00:00:00+00:00                                      71   \n",
       "2016-02-12 00:00:00+00:00                                      42   \n",
       "2016-02-13 00:00:00+00:00                                      39   \n",
       "2016-02-14 00:00:00+00:00                                       0   \n",
       "...                                                           ...   \n",
       "2016-12-20 00:00:00+00:00                                       7   \n",
       "2016-12-21 00:00:00+00:00                                       4   \n",
       "2016-12-22 00:00:00+00:00                                       2   \n",
       "2016-12-23 00:00:00+00:00                                       1   \n",
       "2016-12-24 00:00:00+00:00                                       0   \n",
       "\n",
       "                           O_Returned -> O_Accepted  O_Accepted -> ■  \\\n",
       "2016-02-10 00:00:00+00:00                        63               46   \n",
       "2016-02-11 00:00:00+00:00                        41               47   \n",
       "2016-02-12 00:00:00+00:00                        64               42   \n",
       "2016-02-13 00:00:00+00:00                         0                0   \n",
       "2016-02-14 00:00:00+00:00                         0                0   \n",
       "...                                             ...              ...   \n",
       "2016-12-20 00:00:00+00:00                        54               35   \n",
       "2016-12-21 00:00:00+00:00                        51               36   \n",
       "2016-12-22 00:00:00+00:00                        40              363   \n",
       "2016-12-23 00:00:00+00:00                        23               71   \n",
       "2016-12-24 00:00:00+00:00                         0                0   \n",
       "\n",
       "                           O_Created -> O_Cancelled  \\\n",
       "2016-02-10 00:00:00+00:00                         4   \n",
       "2016-02-11 00:00:00+00:00                         5   \n",
       "2016-02-12 00:00:00+00:00                         1   \n",
       "2016-02-13 00:00:00+00:00                         1   \n",
       "2016-02-14 00:00:00+00:00                         0   \n",
       "...                                             ...   \n",
       "2016-12-20 00:00:00+00:00                         5   \n",
       "2016-12-21 00:00:00+00:00                         2   \n",
       "2016-12-22 00:00:00+00:00                         3   \n",
       "2016-12-23 00:00:00+00:00                         1   \n",
       "2016-12-24 00:00:00+00:00                         1   \n",
       "\n",
       "                           O_Created -> O_Sent (online only)  ...  \\\n",
       "2016-02-10 00:00:00+00:00                                  5  ...   \n",
       "2016-02-11 00:00:00+00:00                                  7  ...   \n",
       "2016-02-12 00:00:00+00:00                                  6  ...   \n",
       "2016-02-13 00:00:00+00:00                                  2  ...   \n",
       "2016-02-14 00:00:00+00:00                                  0  ...   \n",
       "...                                                      ...  ...   \n",
       "2016-12-20 00:00:00+00:00                                 10  ...   \n",
       "2016-12-21 00:00:00+00:00                                 10  ...   \n",
       "2016-12-22 00:00:00+00:00                                  6  ...   \n",
       "2016-12-23 00:00:00+00:00                                  7  ...   \n",
       "2016-12-24 00:00:00+00:00                                  1  ...   \n",
       "\n",
       "                           O_Returned -> O_Refused  O_Refused -> ■  \\\n",
       "2016-02-10 00:00:00+00:00                       17              16   \n",
       "2016-02-11 00:00:00+00:00                        4              16   \n",
       "2016-02-12 00:00:00+00:00                        9              18   \n",
       "2016-02-13 00:00:00+00:00                        2               0   \n",
       "2016-02-14 00:00:00+00:00                        0               0   \n",
       "...                                            ...             ...   \n",
       "2016-12-20 00:00:00+00:00                        8              27   \n",
       "2016-12-21 00:00:00+00:00                       12              19   \n",
       "2016-12-22 00:00:00+00:00                       10              16   \n",
       "2016-12-23 00:00:00+00:00                        6              21   \n",
       "2016-12-24 00:00:00+00:00                        0               0   \n",
       "\n",
       "                           O_Sent (mail and online) -> O_Refused  \\\n",
       "2016-02-10 00:00:00+00:00                                      2   \n",
       "2016-02-11 00:00:00+00:00                                      5   \n",
       "2016-02-12 00:00:00+00:00                                      6   \n",
       "2016-02-13 00:00:00+00:00                                      4   \n",
       "2016-02-14 00:00:00+00:00                                      0   \n",
       "...                                                          ...   \n",
       "2016-12-20 00:00:00+00:00                                      0   \n",
       "2016-12-21 00:00:00+00:00                                      0   \n",
       "2016-12-22 00:00:00+00:00                                      0   \n",
       "2016-12-23 00:00:00+00:00                                      0   \n",
       "2016-12-24 00:00:00+00:00                                      0   \n",
       "\n",
       "                           O_Returned -> O_Cancelled  \\\n",
       "2016-02-10 00:00:00+00:00                          6   \n",
       "2016-02-11 00:00:00+00:00                          9   \n",
       "2016-02-12 00:00:00+00:00                         11   \n",
       "2016-02-13 00:00:00+00:00                          1   \n",
       "2016-02-14 00:00:00+00:00                          0   \n",
       "...                                              ...   \n",
       "2016-12-20 00:00:00+00:00                          6   \n",
       "2016-12-21 00:00:00+00:00                          4   \n",
       "2016-12-22 00:00:00+00:00                          2   \n",
       "2016-12-23 00:00:00+00:00                          0   \n",
       "2016-12-24 00:00:00+00:00                          0   \n",
       "\n",
       "                           O_Sent (online only) -> O_Cancelled  \\\n",
       "2016-02-10 00:00:00+00:00                                    2   \n",
       "2016-02-11 00:00:00+00:00                                    5   \n",
       "2016-02-12 00:00:00+00:00                                    0   \n",
       "2016-02-13 00:00:00+00:00                                    0   \n",
       "2016-02-14 00:00:00+00:00                                    0   \n",
       "...                                                        ...   \n",
       "2016-12-20 00:00:00+00:00                                    0   \n",
       "2016-12-21 00:00:00+00:00                                    2   \n",
       "2016-12-22 00:00:00+00:00                                    0   \n",
       "2016-12-23 00:00:00+00:00                                    0   \n",
       "2016-12-24 00:00:00+00:00                                    0   \n",
       "\n",
       "                           O_Returned -> ■  O_Sent (online only) -> O_Refused  \\\n",
       "2016-02-10 00:00:00+00:00                0                                  0   \n",
       "2016-02-11 00:00:00+00:00                0                                  0   \n",
       "2016-02-12 00:00:00+00:00                0                                  3   \n",
       "2016-02-13 00:00:00+00:00                0                                  2   \n",
       "2016-02-14 00:00:00+00:00                0                                  0   \n",
       "...                                    ...                                ...   \n",
       "2016-12-20 00:00:00+00:00                0                                  1   \n",
       "2016-12-21 00:00:00+00:00                0                                  0   \n",
       "2016-12-22 00:00:00+00:00                2                                  0   \n",
       "2016-12-23 00:00:00+00:00                1                                  0   \n",
       "2016-12-24 00:00:00+00:00                0                                  0   \n",
       "\n",
       "                           O_Created -> O_Refused  \\\n",
       "2016-02-10 00:00:00+00:00                       0   \n",
       "2016-02-11 00:00:00+00:00                       0   \n",
       "2016-02-12 00:00:00+00:00                       0   \n",
       "2016-02-13 00:00:00+00:00                       0   \n",
       "2016-02-14 00:00:00+00:00                       0   \n",
       "...                                           ...   \n",
       "2016-12-20 00:00:00+00:00                       0   \n",
       "2016-12-21 00:00:00+00:00                       0   \n",
       "2016-12-22 00:00:00+00:00                       1   \n",
       "2016-12-23 00:00:00+00:00                       0   \n",
       "2016-12-24 00:00:00+00:00                       0   \n",
       "\n",
       "                           O_Sent (mail and online) -> ■  \\\n",
       "2016-02-10 00:00:00+00:00                              0   \n",
       "2016-02-11 00:00:00+00:00                              0   \n",
       "2016-02-12 00:00:00+00:00                              0   \n",
       "2016-02-13 00:00:00+00:00                              0   \n",
       "2016-02-14 00:00:00+00:00                              0   \n",
       "...                                                  ...   \n",
       "2016-12-20 00:00:00+00:00                              0   \n",
       "2016-12-21 00:00:00+00:00                              1   \n",
       "2016-12-22 00:00:00+00:00                              0   \n",
       "2016-12-23 00:00:00+00:00                              1   \n",
       "2016-12-24 00:00:00+00:00                              1   \n",
       "\n",
       "                           O_Sent (online only) -> ■  \n",
       "2016-02-10 00:00:00+00:00                          0  \n",
       "2016-02-11 00:00:00+00:00                          0  \n",
       "2016-02-12 00:00:00+00:00                          0  \n",
       "2016-02-13 00:00:00+00:00                          0  \n",
       "2016-02-14 00:00:00+00:00                          0  \n",
       "...                                              ...  \n",
       "2016-12-20 00:00:00+00:00                          0  \n",
       "2016-12-21 00:00:00+00:00                          0  \n",
       "2016-12-22 00:00:00+00:00                          0  \n",
       "2016-12-23 00:00:00+00:00                          0  \n",
       "2016-12-24 00:00:00+00:00                          0  \n",
       "\n",
       "[319 rows x 21 columns]"
      ],
      "text/html": [
       "<div>\n",
       "<style scoped>\n",
       "    .dataframe tbody tr th:only-of-type {\n",
       "        vertical-align: middle;\n",
       "    }\n",
       "\n",
       "    .dataframe tbody tr th {\n",
       "        vertical-align: top;\n",
       "    }\n",
       "\n",
       "    .dataframe thead th {\n",
       "        text-align: right;\n",
       "    }\n",
       "</style>\n",
       "<table border=\"1\" class=\"dataframe\">\n",
       "  <thead>\n",
       "    <tr style=\"text-align: right;\">\n",
       "      <th></th>\n",
       "      <th>▶ -&gt; O_Create Offer</th>\n",
       "      <th>O_Create Offer -&gt; O_Created</th>\n",
       "      <th>O_Created -&gt; O_Sent (mail and online)</th>\n",
       "      <th>O_Sent (mail and online) -&gt; O_Cancelled</th>\n",
       "      <th>O_Cancelled -&gt; ■</th>\n",
       "      <th>O_Sent (mail and online) -&gt; O_Returned</th>\n",
       "      <th>O_Returned -&gt; O_Accepted</th>\n",
       "      <th>O_Accepted -&gt; ■</th>\n",
       "      <th>O_Created -&gt; O_Cancelled</th>\n",
       "      <th>O_Created -&gt; O_Sent (online only)</th>\n",
       "      <th>...</th>\n",
       "      <th>O_Returned -&gt; O_Refused</th>\n",
       "      <th>O_Refused -&gt; ■</th>\n",
       "      <th>O_Sent (mail and online) -&gt; O_Refused</th>\n",
       "      <th>O_Returned -&gt; O_Cancelled</th>\n",
       "      <th>O_Sent (online only) -&gt; O_Cancelled</th>\n",
       "      <th>O_Returned -&gt; ■</th>\n",
       "      <th>O_Sent (online only) -&gt; O_Refused</th>\n",
       "      <th>O_Created -&gt; O_Refused</th>\n",
       "      <th>O_Sent (mail and online) -&gt; ■</th>\n",
       "      <th>O_Sent (online only) -&gt; ■</th>\n",
       "    </tr>\n",
       "  </thead>\n",
       "  <tbody>\n",
       "    <tr>\n",
       "      <th>2016-02-10 00:00:00+00:00</th>\n",
       "      <td>113</td>\n",
       "      <td>113</td>\n",
       "      <td>104</td>\n",
       "      <td>27</td>\n",
       "      <td>30</td>\n",
       "      <td>77</td>\n",
       "      <td>63</td>\n",
       "      <td>46</td>\n",
       "      <td>4</td>\n",
       "      <td>5</td>\n",
       "      <td>...</td>\n",
       "      <td>17</td>\n",
       "      <td>16</td>\n",
       "      <td>2</td>\n",
       "      <td>6</td>\n",
       "      <td>2</td>\n",
       "      <td>0</td>\n",
       "      <td>0</td>\n",
       "      <td>0</td>\n",
       "      <td>0</td>\n",
       "      <td>0</td>\n",
       "    </tr>\n",
       "    <tr>\n",
       "      <th>2016-02-11 00:00:00+00:00</th>\n",
       "      <td>142</td>\n",
       "      <td>142</td>\n",
       "      <td>130</td>\n",
       "      <td>52</td>\n",
       "      <td>62</td>\n",
       "      <td>71</td>\n",
       "      <td>41</td>\n",
       "      <td>47</td>\n",
       "      <td>5</td>\n",
       "      <td>7</td>\n",
       "      <td>...</td>\n",
       "      <td>4</td>\n",
       "      <td>16</td>\n",
       "      <td>5</td>\n",
       "      <td>9</td>\n",
       "      <td>5</td>\n",
       "      <td>0</td>\n",
       "      <td>0</td>\n",
       "      <td>0</td>\n",
       "      <td>0</td>\n",
       "      <td>0</td>\n",
       "    </tr>\n",
       "    <tr>\n",
       "      <th>2016-02-12 00:00:00+00:00</th>\n",
       "      <td>73</td>\n",
       "      <td>73</td>\n",
       "      <td>66</td>\n",
       "      <td>20</td>\n",
       "      <td>47</td>\n",
       "      <td>42</td>\n",
       "      <td>64</td>\n",
       "      <td>42</td>\n",
       "      <td>1</td>\n",
       "      <td>6</td>\n",
       "      <td>...</td>\n",
       "      <td>9</td>\n",
       "      <td>18</td>\n",
       "      <td>6</td>\n",
       "      <td>11</td>\n",
       "      <td>0</td>\n",
       "      <td>0</td>\n",
       "      <td>3</td>\n",
       "      <td>0</td>\n",
       "      <td>0</td>\n",
       "      <td>0</td>\n",
       "    </tr>\n",
       "    <tr>\n",
       "      <th>2016-02-13 00:00:00+00:00</th>\n",
       "      <td>80</td>\n",
       "      <td>80</td>\n",
       "      <td>77</td>\n",
       "      <td>34</td>\n",
       "      <td>12</td>\n",
       "      <td>39</td>\n",
       "      <td>0</td>\n",
       "      <td>0</td>\n",
       "      <td>1</td>\n",
       "      <td>2</td>\n",
       "      <td>...</td>\n",
       "      <td>2</td>\n",
       "      <td>0</td>\n",
       "      <td>4</td>\n",
       "      <td>1</td>\n",
       "      <td>0</td>\n",
       "      <td>0</td>\n",
       "      <td>2</td>\n",
       "      <td>0</td>\n",
       "      <td>0</td>\n",
       "      <td>0</td>\n",
       "    </tr>\n",
       "    <tr>\n",
       "      <th>2016-02-14 00:00:00+00:00</th>\n",
       "      <td>0</td>\n",
       "      <td>0</td>\n",
       "      <td>0</td>\n",
       "      <td>0</td>\n",
       "      <td>17</td>\n",
       "      <td>0</td>\n",
       "      <td>0</td>\n",
       "      <td>0</td>\n",
       "      <td>0</td>\n",
       "      <td>0</td>\n",
       "      <td>...</td>\n",
       "      <td>0</td>\n",
       "      <td>0</td>\n",
       "      <td>0</td>\n",
       "      <td>0</td>\n",
       "      <td>0</td>\n",
       "      <td>0</td>\n",
       "      <td>0</td>\n",
       "      <td>0</td>\n",
       "      <td>0</td>\n",
       "      <td>0</td>\n",
       "    </tr>\n",
       "    <tr>\n",
       "      <th>...</th>\n",
       "      <td>...</td>\n",
       "      <td>...</td>\n",
       "      <td>...</td>\n",
       "      <td>...</td>\n",
       "      <td>...</td>\n",
       "      <td>...</td>\n",
       "      <td>...</td>\n",
       "      <td>...</td>\n",
       "      <td>...</td>\n",
       "      <td>...</td>\n",
       "      <td>...</td>\n",
       "      <td>...</td>\n",
       "      <td>...</td>\n",
       "      <td>...</td>\n",
       "      <td>...</td>\n",
       "      <td>...</td>\n",
       "      <td>...</td>\n",
       "      <td>...</td>\n",
       "      <td>...</td>\n",
       "      <td>...</td>\n",
       "      <td>...</td>\n",
       "    </tr>\n",
       "    <tr>\n",
       "      <th>2016-12-20 00:00:00+00:00</th>\n",
       "      <td>148</td>\n",
       "      <td>148</td>\n",
       "      <td>128</td>\n",
       "      <td>7</td>\n",
       "      <td>73</td>\n",
       "      <td>7</td>\n",
       "      <td>54</td>\n",
       "      <td>35</td>\n",
       "      <td>5</td>\n",
       "      <td>10</td>\n",
       "      <td>...</td>\n",
       "      <td>8</td>\n",
       "      <td>27</td>\n",
       "      <td>0</td>\n",
       "      <td>6</td>\n",
       "      <td>0</td>\n",
       "      <td>0</td>\n",
       "      <td>1</td>\n",
       "      <td>0</td>\n",
       "      <td>0</td>\n",
       "      <td>0</td>\n",
       "    </tr>\n",
       "    <tr>\n",
       "      <th>2016-12-21 00:00:00+00:00</th>\n",
       "      <td>114</td>\n",
       "      <td>114</td>\n",
       "      <td>101</td>\n",
       "      <td>0</td>\n",
       "      <td>23</td>\n",
       "      <td>4</td>\n",
       "      <td>51</td>\n",
       "      <td>36</td>\n",
       "      <td>2</td>\n",
       "      <td>10</td>\n",
       "      <td>...</td>\n",
       "      <td>12</td>\n",
       "      <td>19</td>\n",
       "      <td>0</td>\n",
       "      <td>4</td>\n",
       "      <td>2</td>\n",
       "      <td>0</td>\n",
       "      <td>0</td>\n",
       "      <td>0</td>\n",
       "      <td>1</td>\n",
       "      <td>0</td>\n",
       "    </tr>\n",
       "    <tr>\n",
       "      <th>2016-12-22 00:00:00+00:00</th>\n",
       "      <td>89</td>\n",
       "      <td>89</td>\n",
       "      <td>78</td>\n",
       "      <td>2</td>\n",
       "      <td>213</td>\n",
       "      <td>2</td>\n",
       "      <td>40</td>\n",
       "      <td>363</td>\n",
       "      <td>3</td>\n",
       "      <td>6</td>\n",
       "      <td>...</td>\n",
       "      <td>10</td>\n",
       "      <td>16</td>\n",
       "      <td>0</td>\n",
       "      <td>2</td>\n",
       "      <td>0</td>\n",
       "      <td>2</td>\n",
       "      <td>0</td>\n",
       "      <td>1</td>\n",
       "      <td>0</td>\n",
       "      <td>0</td>\n",
       "    </tr>\n",
       "    <tr>\n",
       "      <th>2016-12-23 00:00:00+00:00</th>\n",
       "      <td>86</td>\n",
       "      <td>86</td>\n",
       "      <td>76</td>\n",
       "      <td>0</td>\n",
       "      <td>87</td>\n",
       "      <td>1</td>\n",
       "      <td>23</td>\n",
       "      <td>71</td>\n",
       "      <td>1</td>\n",
       "      <td>7</td>\n",
       "      <td>...</td>\n",
       "      <td>6</td>\n",
       "      <td>21</td>\n",
       "      <td>0</td>\n",
       "      <td>0</td>\n",
       "      <td>0</td>\n",
       "      <td>1</td>\n",
       "      <td>0</td>\n",
       "      <td>0</td>\n",
       "      <td>1</td>\n",
       "      <td>0</td>\n",
       "    </tr>\n",
       "    <tr>\n",
       "      <th>2016-12-24 00:00:00+00:00</th>\n",
       "      <td>18</td>\n",
       "      <td>18</td>\n",
       "      <td>16</td>\n",
       "      <td>1</td>\n",
       "      <td>33</td>\n",
       "      <td>0</td>\n",
       "      <td>0</td>\n",
       "      <td>0</td>\n",
       "      <td>1</td>\n",
       "      <td>1</td>\n",
       "      <td>...</td>\n",
       "      <td>0</td>\n",
       "      <td>0</td>\n",
       "      <td>0</td>\n",
       "      <td>0</td>\n",
       "      <td>0</td>\n",
       "      <td>0</td>\n",
       "      <td>0</td>\n",
       "      <td>0</td>\n",
       "      <td>1</td>\n",
       "      <td>0</td>\n",
       "    </tr>\n",
       "  </tbody>\n",
       "</table>\n",
       "<p>319 rows × 21 columns</p>\n",
       "</div>"
      ]
     },
     "execution_count": 4,
     "metadata": {},
     "output_type": "execute_result"
    }
   ],
   "execution_count": 4
  },
  {
   "metadata": {
    "ExecuteTime": {
     "end_time": "2025-04-22T11:26:00.359240Z",
     "start_time": "2025-04-22T11:26:00.326258Z"
    }
   },
   "cell_type": "code",
   "source": [
    "df_short = df.loc['2016-07-04':'2016-07-24']\n",
    "selected_columns = ['O_Sent (mail and online) -> O_Cancelled',  'O_Sent (mail and online) -> O_Returned', 'O_Returned -> O_Accepted']\n",
    "df_selected = df_short[selected_columns].copy()"
   ],
   "id": "622f4b5400cbf285",
   "outputs": [],
   "execution_count": 3
  },
  {
   "metadata": {
    "ExecuteTime": {
     "end_time": "2025-04-22T11:56:07.198099Z",
     "start_time": "2025-04-22T11:56:07.195010Z"
    }
   },
   "cell_type": "code",
   "source": [
    "date_index = df_selected.index\n",
    "week1_idx = min(6, len(date_index) - 1)  # Ensure we don't exceed index bounds\n",
    "week1_Sunday = date_index[week1_idx]\n",
    "week2_Monday = date_index[week1_idx + 1]\n",
    "week1_boundary = pd.Timestamp(week1_Sunday.to_pydatetime() +\n",
    "                     (week2_Monday.to_pydatetime() - week1_Sunday.to_pydatetime())/2)"
   ],
   "id": "8b8afa82a847c21",
   "outputs": [],
   "execution_count": 28
  },
  {
   "metadata": {
    "ExecuteTime": {
     "end_time": "2025-04-22T11:56:21.083099Z",
     "start_time": "2025-04-22T11:56:21.079728Z"
    }
   },
   "cell_type": "code",
   "source": "week1_Sunday",
   "id": "2824e89cb4beeb91",
   "outputs": [
    {
     "data": {
      "text/plain": [
       "Timestamp('2016-07-10 00:00:00+0000', tz='UTC')"
      ]
     },
     "execution_count": 30,
     "metadata": {},
     "output_type": "execute_result"
    }
   ],
   "execution_count": 30
  },
  {
   "metadata": {
    "ExecuteTime": {
     "end_time": "2025-04-22T12:22:05.123419Z",
     "start_time": "2025-04-22T12:22:05.113206Z"
    }
   },
   "cell_type": "code",
   "source": [
    "def plot_selected_time_series(df: pd.DataFrame, dataset: str, output_dir: Path):\n",
    "    \"\"\"Plot all time series in a single plot and save to PDF\"\"\"\n",
    "\n",
    "    # Create output directory if it doesn't exist\n",
    "    output_dir.mkdir(parents=True, exist_ok=True)\n",
    "    pdf_path = output_dir / f\"{dataset}_selected_time_series.pdf\"\n",
    "\n",
    "    # Set style for better visualization\n",
    "    plt.style.use('seaborn-v0_8-darkgrid')  # Updated style name\n",
    "    sns.set_theme()  # Set seaborn defaults\n",
    "\n",
    "    # Increase font sizes globally\n",
    "    plt.rcParams.update({\n",
    "        'font.size': 14,\n",
    "        'axes.titlesize': 18,\n",
    "        'axes.labelsize': 16,\n",
    "        'xtick.labelsize': 14,\n",
    "        'ytick.labelsize': 14,\n",
    "        'legend.fontsize': 14,\n",
    "    })\n",
    "\n",
    "    # Create figure\n",
    "    fig, ax = plt.subplots(figsize=(15, 6))\n",
    "\n",
    "    # Plot all time series with bolder lines\n",
    "    for column in df.columns:\n",
    "        df[column].plot(ax=ax, label=column, alpha=0.8, linewidth=3)\n",
    "\n",
    "    # Customize the plot\n",
    "    ax.set_title(f\"{dataset}: 3 DF time series in a 3-week window\", pad=20, fontweight='bold')\n",
    "    ax.set_xlabel(\"Time\", fontweight='bold')\n",
    "    ax.set_ylabel(\"Value\", fontweight='bold')\n",
    "    ax.grid(True, alpha=0.3)\n",
    "\n",
    "    # Add legend at upper-middle right (top 30% position) with bold frame\n",
    "    legend = ax.legend(loc='center right', bbox_to_anchor=(1.0, 0.7), frameon=True)\n",
    "    legend.get_frame().set_linewidth(1.5)\n",
    "\n",
    "    # # Add legend at the right middle with bold frame\n",
    "    # legend = ax.legend(loc='center right', frameon=True)\n",
    "    # legend.get_frame().set_linewidth(1.5)\n",
    "\n",
    "    # Make tick labels bolder\n",
    "    for tick in ax.get_xticklabels() + ax.get_yticklabels():\n",
    "        tick.set_fontweight('bold')\n",
    "\n",
    "    # Get date index and calculate week boundaries\n",
    "    # For data starting on Monday, weeks end after 6.5 and 13.5 days\n",
    "    date_index = df.index\n",
    "\n",
    "    if len(date_index) > 6:\n",
    "        # First week boundary (Sunday/Monday between weeks 1-2)\n",
    "        week1_idx = min(6, len(date_index) - 1)  # Ensure we don't exceed index bounds\n",
    "        week1_Sunday = date_index[week1_idx]\n",
    "\n",
    "        if week1_idx + 1 < len(date_index):\n",
    "            week2_Monday = date_index[week1_idx + 1]\n",
    "            # Calculate midpoint between Sunday and Monday\n",
    "            week1_boundary = week1_Sunday + (week2_Monday - week1_Sunday) / 2\n",
    "        else:\n",
    "            week1_boundary = week1_Sunday\n",
    "\n",
    "        ax.axvline(x=week1_boundary, color='black', linestyle=':', linewidth=2, alpha=0.7)\n",
    "\n",
    "        # Add text for Week 1\n",
    "        y_min, y_max = ax.get_ylim()\n",
    "        y_text = y_max * 0.95\n",
    "        mid_week1_idx = min(3, len(date_index) - 1)\n",
    "        ax.text(date_index[mid_week1_idx], y_text, 'Week 1', fontsize=14, fontweight='bold',\n",
    "                ha='center', va='top', bbox=dict(facecolor='white', alpha=0.7, edgecolor='none'))\n",
    "\n",
    "    if len(date_index) > 13:\n",
    "        # Second week boundary (Sunday/Monday between weeks 2-3)\n",
    "        week2_idx = min(13, len(date_index) - 1)\n",
    "        week2_Sunday = date_index[week2_idx]\n",
    "\n",
    "        if week2_idx + 1 < len(date_index):\n",
    "            week3_Monday = date_index[week2_idx + 1]\n",
    "            # Calculate midpoint between Sunday and Monday\n",
    "            week2_boundary = week2_Sunday + (week3_Monday - week2_Sunday) / 2\n",
    "        else:\n",
    "            week2_boundary = week2_Sunday\n",
    "\n",
    "        ax.axvline(x=week2_boundary, color='black', linestyle=':', linewidth=2, alpha=0.7)\n",
    "\n",
    "        # Add text for Week 2\n",
    "        mid_week2_idx = min(10, len(date_index) - 1)\n",
    "        ax.text(date_index[mid_week2_idx], y_text, 'Week 2', fontsize=14, fontweight='bold',\n",
    "                ha='center', va='top', bbox=dict(facecolor='white', alpha=0.7, edgecolor='none'))\n",
    "\n",
    "        # Add text for Week 3\n",
    "        if len(date_index) > 14:\n",
    "            mid_week3_idx = min(17, len(date_index) - 1)\n",
    "            ax.text(date_index[mid_week3_idx], y_text, 'Week 3', fontsize=14, fontweight='bold',\n",
    "                    ha='center', va='top', bbox=dict(facecolor='white', alpha=0.7, edgecolor='none'))\n",
    "\n",
    "    # Adjust layout to prevent label cutoff\n",
    "    plt.tight_layout()\n",
    "\n",
    "    # Save to PDF\n",
    "    with PdfPages(pdf_path) as pdf:\n",
    "        pdf.savefig(fig, bbox_inches='tight')\n",
    "\n",
    "        # Add metadata\n",
    "        d = pdf.infodict()\n",
    "        d['Title'] = f'Combined Time Series Plot - {dataset}'\n",
    "        d['Subject'] = 'Time Series Visualization'\n",
    "\n",
    "    plt.close(fig)"
   ],
   "id": "4d9dcf50a19bac87",
   "outputs": [],
   "execution_count": 68
  },
  {
   "metadata": {
    "ExecuteTime": {
     "end_time": "2025-04-22T12:22:07.721047Z",
     "start_time": "2025-04-22T12:22:07.608529Z"
    }
   },
   "cell_type": "code",
   "source": [
    "output_dir = Path('../results/plots')\n",
    "plot_selected_time_series(df_selected, 'BPI2017', output_dir)"
   ],
   "id": "ef0e7fb57560c41f",
   "outputs": [],
   "execution_count": 69
  },
  {
   "metadata": {},
   "cell_type": "markdown",
   "source": "## Draw Mulitple Predictions with Ground Truth",
   "id": "79e4fa1e45a1cbc2"
  },
  {
   "metadata": {},
   "cell_type": "code",
   "outputs": [],
   "execution_count": null,
   "source": [
    "def extract_ground_truth(df: pd.DataFrame,\n",
    "                        start_date: str,\n",
    "                        columns: list = None) -> pd.DataFrame:\n",
    "    \"\"\"\n",
    "    Extract ground truth data for the specified time range and columns.\n",
    "\n",
    "    Parameters:\n",
    "    -----------\n",
    "    df : pd.DataFrame\n",
    "        The original dataframe containing time series data\n",
    "    start_date : str\n",
    "        Start date in format 'YYYY-MM-DD'\n",
    "    end_date : str\n",
    "        End date in format 'YYYY-MM-DD'\n",
    "    columns : list, optional\n",
    "        List of column names to extract. If None, all columns are extracted.\n",
    "\n",
    "    Returns:\n",
    "    --------\n",
    "    pd.DataFrame\n",
    "        DataFrame with the selected time range and columns\n",
    "    \"\"\"\n",
    "    df_slice = df.loc[start_date:].copy()\n",
    "\n",
    "    if columns is not None:\n",
    "        df_slice = df_slice[columns]\n",
    "\n",
    "    return df_slice\n"
   ],
   "id": "75bb50ab4dbb3627"
  },
  {
   "metadata": {
    "ExecuteTime": {
     "end_time": "2025-04-22T13:09:44.184874Z",
     "start_time": "2025-04-22T13:09:44.175399Z"
    }
   },
   "cell_type": "code",
   "source": [
    "data_file = '../data/processed/time_series_df.h5'\n",
    "data = pd.read_hdf(truth_file, key=dataset)"
   ],
   "id": "ae4ec37620ccea46",
   "outputs": [],
   "execution_count": 72
  },
  {
   "metadata": {
    "ExecuteTime": {
     "end_time": "2025-04-22T13:09:44.526628Z",
     "start_time": "2025-04-22T13:09:44.520920Z"
    }
   },
   "cell_type": "code",
   "source": [
    "slice_date = '2016-10-29'\n",
    "truth = data.loc[slice_date:].copy()"
   ],
   "id": "d4d12dc2641510e4",
   "outputs": [],
   "execution_count": 73
  },
  {
   "metadata": {
    "ExecuteTime": {
     "end_time": "2025-04-22T13:16:17.414397Z",
     "start_time": "2025-04-22T13:16:17.397156Z"
    }
   },
   "cell_type": "code",
   "source": [
    "pred_path = '../results/BPI2017/horizon_7/predictions/'\n",
    "arima_pred = pd.read_parquet(Path(pred_path) / 'statistical' / 'arima_last_predictions.parquet')\n",
    "rf_pred = pd.read_parquet(Path(pred_path) / 'regression' / 'random_forest_last_predictions.parquet')\n",
    "lstm_pred = pd.read_parquet(Path(pred_path) / 'deep_learning' / 'lstm_last_predictions.parquet')"
   ],
   "id": "2c6c72c175a3e049",
   "outputs": [],
   "execution_count": 80
  },
  {
   "metadata": {
    "ExecuteTime": {
     "end_time": "2025-04-22T14:09:34.264914Z",
     "start_time": "2025-04-22T14:09:34.222597Z"
    }
   },
   "cell_type": "code",
   "source": "arima_pred['O_Returned -> O_Accepted']",
   "id": "f068b8339045c9fc",
   "outputs": [
    {
     "data": {
      "text/plain": [
       "time\n",
       "2016-10-28    33.480415\n",
       "2016-10-29    15.864413\n",
       "2016-10-30    15.376011\n",
       "2016-10-31    40.105078\n",
       "2016-11-01    30.600737\n",
       "2016-11-02    29.832551\n",
       "2016-11-03    22.682915\n",
       "2016-11-04    25.998517\n",
       "2016-11-05    -1.000000\n",
       "2016-11-06    10.989371\n",
       "2016-11-07    31.309805\n",
       "2016-11-08    24.220497\n",
       "2016-11-09    23.842516\n",
       "2016-11-10    19.381780\n",
       "2016-11-11    20.359863\n",
       "2016-11-12    17.174177\n",
       "2016-11-13    10.591938\n",
       "2016-11-14    34.948595\n",
       "2016-11-15    30.366603\n",
       "2016-11-16    31.840187\n",
       "2016-11-17    29.736940\n",
       "2016-11-18    34.848765\n",
       "2016-11-19    19.757779\n",
       "2016-11-20    16.630139\n",
       "2016-11-21    48.832462\n",
       "2016-11-22    37.910212\n",
       "2016-11-23    21.188818\n",
       "2016-11-24    21.088658\n",
       "2016-11-25    21.368534\n",
       "2016-11-26    20.638351\n",
       "2016-11-27    20.752109\n",
       "2016-11-28    21.052790\n",
       "2016-11-29    20.928674\n",
       "2016-11-30    21.268514\n",
       "2016-12-01    21.075412\n",
       "2016-12-02    21.433028\n",
       "2016-12-03    20.741506\n",
       "2016-12-04    20.798212\n",
       "2016-12-05    21.113871\n",
       "2016-12-06    20.942756\n",
       "2016-12-07    21.362707\n",
       "2016-12-08    21.086206\n",
       "2016-12-09    21.508858\n",
       "2016-12-10    20.381314\n",
       "2016-12-11    20.910274\n",
       "2016-12-12    20.968908\n",
       "2016-12-13    21.041034\n",
       "2016-12-14    21.167956\n",
       "2016-12-15    21.206137\n",
       "2016-12-16    21.275264\n",
       "2016-12-17    20.869687\n",
       "2016-12-18    20.694816\n",
       "2016-12-19    21.207522\n",
       "2016-12-20    20.908352\n",
       "2016-12-21    21.312445\n",
       "2016-12-22    21.064858\n",
       "2016-12-23    21.409059\n",
       "2016-12-24    10.869428\n",
       "Name: O_Returned -> O_Accepted, dtype: float64"
      ]
     },
     "execution_count": 110,
     "metadata": {},
     "output_type": "execute_result"
    }
   ],
   "execution_count": 110
  },
  {
   "metadata": {
    "ExecuteTime": {
     "end_time": "2025-04-22T14:14:58.822782Z",
     "start_time": "2025-04-22T14:14:58.679345Z"
    }
   },
   "cell_type": "code",
   "source": "data['O_Returned -> O_Accepted'].plot()",
   "id": "5b03938fa37542e6",
   "outputs": [
    {
     "data": {
      "text/plain": [
       "<Axes: >"
      ]
     },
     "execution_count": 111,
     "metadata": {},
     "output_type": "execute_result"
    },
    {
     "data": {
      "text/plain": [
       "<Figure size 640x480 with 1 Axes>"
      ],
      "image/png": "[encoded data removed]"
     },
     "metadata": {},
     "output_type": "display_data"
    }
   ],
   "execution_count": 111
  },
  {
   "metadata": {
    "ExecuteTime": {
     "end_time": "2025-04-22T13:27:46.679864Z",
     "start_time": "2025-04-22T13:27:46.674299Z"
    }
   },
   "cell_type": "code",
   "source": [
    "pred_combined = {}\n",
    "pred_combined['ARIMA'] = arima_pred\n",
    "pred_combined['Random Forest'] = rf_pred\n",
    "pred_combined['LSTM'] = lstm_pred"
   ],
   "id": "69a2338c7171c2c9",
   "outputs": [],
   "execution_count": 95
  },
  {
   "metadata": {
    "ExecuteTime": {
     "end_time": "2025-04-22T13:37:03.095196Z",
     "start_time": "2025-04-22T13:37:03.085612Z"
    }
   },
   "cell_type": "code",
   "source": [
    "def plot_model_predictions(df_true: pd.DataFrame,\n",
    "                          df_predictions: dict,\n",
    "                          dataset: str,\n",
    "                          output_dir: Path,\n",
    "                          series_names: list = None):\n",
    "    \"\"\"\n",
    "    Plot time series predictions from multiple models alongside ground truth.\n",
    "\n",
    "    Parameters:\n",
    "    -----------\n",
    "    df_true : pd.DataFrame\n",
    "        DataFrame containing the ground truth values\n",
    "    df_predictions : dict\n",
    "        Dictionary with keys as model names and values as DataFrames with predictions\n",
    "        e.g., {'ARIMA': arima_preds_df, 'RF': rf_preds_df, 'LSTM': lstm_preds_df}\n",
    "    dataset : str\n",
    "        Name of the dataset\n",
    "    output_dir : Path\n",
    "        Directory to save the output PDF\n",
    "    series_names : list, optional\n",
    "        List of specific series names to plot. If None, plots all series.\n",
    "    \"\"\"\n",
    "    # Create output directory if it doesn't exist\n",
    "    output_dir.mkdir(parents=True, exist_ok=True)\n",
    "\n",
    "    # Set style for better visualization\n",
    "    plt.style.use('seaborn-v0_8-darkgrid')\n",
    "    sns.set_theme()\n",
    "\n",
    "    # Increase font sizes globally\n",
    "    plt.rcParams.update({\n",
    "        'font.size': 14,\n",
    "        'axes.titlesize': 18,\n",
    "        'axes.labelsize': 16,\n",
    "        'xtick.labelsize': 14,\n",
    "        'ytick.labelsize': 14,\n",
    "        'legend.fontsize': 14,\n",
    "    })\n",
    "\n",
    "    # Define colors for each model\n",
    "    colors = {\n",
    "        'Ground Truth': 'black',\n",
    "        'ARIMA': 'blue',\n",
    "        'Random Forest': 'green',\n",
    "        'LSTM': 'red'\n",
    "    }\n",
    "\n",
    "    # Define line styles for each model\n",
    "    line_styles = {\n",
    "        'Ground Truth': '-',\n",
    "        'ARIMA': ':',\n",
    "        'Random Forest': '-.',\n",
    "        'LSTM': '--'\n",
    "    }\n",
    "\n",
    "    # Define model order for legend\n",
    "    model_order = ['Ground Truth', 'ARIMA', 'Random Forest', 'LSTM']\n",
    "\n",
    "    # Get the series names to plot\n",
    "    if series_names:\n",
    "        # Use provided list of series names\n",
    "        plot_series = [s for s in series_names if s in df_true.columns]\n",
    "    else:\n",
    "        # Use all columns in the ground truth dataframe\n",
    "        plot_series = df_true.columns\n",
    "\n",
    "    # Create PDFs for each series\n",
    "    for series in plot_series:\n",
    "        pdf_path = output_dir / f\"{dataset}_{series.replace(' ', '_')}_model_predictions.pdf\"\n",
    "\n",
    "        # Create figure\n",
    "        fig, ax = plt.subplots(figsize=(15, 6))\n",
    "\n",
    "        # Plot ground truth\n",
    "        df_true[series].plot(ax=ax,\n",
    "                            label='Ground Truth',\n",
    "                            color=colors['Ground Truth'],\n",
    "                            linewidth=3,\n",
    "                            linestyle=line_styles['Ground Truth'])\n",
    "\n",
    "        # Plot predictions from each model\n",
    "        for model_name, df_pred in df_predictions.items():\n",
    "            if model_name != 'split_date' and series in df_pred.columns:\n",
    "                df_pred[series].plot(ax=ax,\n",
    "                                    label=model_name,\n",
    "                                    color=colors.get(model_name, 'purple'),\n",
    "                                    linewidth=2.5,\n",
    "                                    linestyle=line_styles.get(model_name, '--'),\n",
    "                                    alpha=0.8)\n",
    "\n",
    "        # Customize the plot\n",
    "        ax.set_title(f\"{dataset}: {series}\", pad=20, fontweight='bold')\n",
    "        ax.set_xlabel(\"Time\", fontweight='bold')\n",
    "        ax.set_ylabel(\"Value\", fontweight='bold')\n",
    "        ax.grid(True, alpha=0.3)\n",
    "\n",
    "        # Add legend with custom ordering\n",
    "        handles, labels = ax.get_legend_handles_labels()\n",
    "        by_label = dict(zip(labels, handles))\n",
    "        ordered_labels = [label for label in model_order if label in labels]\n",
    "        ordered_handles = [by_label[label] for label in ordered_labels]\n",
    "\n",
    "        legend = ax.legend(ordered_handles, ordered_labels,\n",
    "                         loc='upper right',\n",
    "                         # bbox_to_anchor=(1.0, 0.95),\n",
    "                         frameon=True)\n",
    "        legend.get_frame().set_linewidth(1.5)\n",
    "\n",
    "        # Make tick labels bolder\n",
    "        for tick in ax.get_xticklabels() + ax.get_yticklabels():\n",
    "            tick.set_fontweight('bold')\n",
    "\n",
    "        # Add shaded training/test split area if applicable\n",
    "        if 'split_date' in df_predictions:\n",
    "            split_date = df_predictions['split_date']\n",
    "            ax.axvline(x=split_date, color='purple', linestyle='--', linewidth=1.5)\n",
    "            ax.text(split_date, ax.get_ylim()[1]*0.95, 'Train-Test Split',\n",
    "                   rotation=90, ha='right', va='top', fontweight='bold',\n",
    "                   bbox=dict(facecolor='white', alpha=0.7, edgecolor='none'))\n",
    "\n",
    "        # Adjust layout\n",
    "        plt.tight_layout()\n",
    "\n",
    "        # Save to PDF\n",
    "        with PdfPages(pdf_path) as pdf:\n",
    "            pdf.savefig(fig, bbox_inches='tight')\n",
    "\n",
    "            # Add metadata\n",
    "            d = pdf.infodict()\n",
    "            d['Title'] = f'Model Predictions - {dataset} - {series}'\n",
    "            d['Subject'] = 'Time Series Prediction Comparison'\n",
    "\n",
    "        plt.close(fig)\n",
    "\n",
    "    print(f\"Model prediction plots saved to {output_dir}\")"
   ],
   "id": "d51dde02145a8813",
   "outputs": [],
   "execution_count": 108
  },
  {
   "metadata": {
    "ExecuteTime": {
     "end_time": "2025-04-22T13:37:04.451127Z",
     "start_time": "2025-04-22T13:37:04.052501Z"
    }
   },
   "cell_type": "code",
   "source": "plot_model_predictions(truth, pred_combined, dataset, output_dir, selected_columns)",
   "id": "3b4fc4cc3ab1745c",
   "outputs": [
    {
     "name": "stdout",
     "output_type": "stream",
     "text": [
      "Model prediction plots saved to ../results/plots\n"
     ]
    }
   ],
   "execution_count": 109
  },
  {
   "metadata": {},
   "cell_type": "markdown",
   "source": "## Plot each time series across datasets#",
   "id": "57e4f6c5391172b2"
  },
  {
   "metadata": {
    "ExecuteTime": {
     "end_time": "2025-04-23T09:35:34.427646Z",
     "start_time": "2025-04-23T09:35:34.414009Z"
    }
   },
   "cell_type": "code",
   "source": [
    "# dataset = 'Hospital_Billing'\n",
    "# dataset = 'RTFMP'\n",
    "dataset = 'BPI2019_1'\n",
    "df = pd.read_hdf('../data/processed/time_series_df.h5', key=dataset)\n",
    "output_dir = Path('../results/plots')"
   ],
   "id": "b111e936a635732e",
   "outputs": [],
   "execution_count": 11
  },
  {
   "metadata": {
    "ExecuteTime": {
     "end_time": "2025-04-23T09:35:34.768662Z",
     "start_time": "2025-04-23T09:35:34.764489Z"
    }
   },
   "cell_type": "code",
   "source": [
    "def plot_time_series(df: pd.DataFrame, dataset: str, output_dir: Path):\n",
    "    \"\"\"Plot each time series and save to PDF\"\"\"\n",
    "    # Create output directory if it doesn't exist\n",
    "    output_dir.mkdir(parents=True, exist_ok=True)\n",
    "    pdf_path = output_dir / f\"{dataset}_time_series_plots.pdf\"\n",
    "\n",
    "    # Set style for better visualization\n",
    "    plt.style.use('seaborn-v0_8-darkgrid')  # Updated style name\n",
    "    sns.set_theme()  # Set seaborn defaults\n",
    "\n",
    "    # Increase font sizes globally\n",
    "    plt.rcParams.update({\n",
    "        'font.size': 14,\n",
    "        'axes.titlesize': 18,\n",
    "        'axes.labelsize': 16,\n",
    "        'xtick.labelsize': 14,\n",
    "        'ytick.labelsize': 14,\n",
    "        'legend.fontsize': 14,\n",
    "    })\n",
    "\n",
    "    # Calculate number of columns for better visualization\n",
    "    n_series = len(df.columns)\n",
    "\n",
    "    # Create PDF\n",
    "    with PdfPages(pdf_path) as pdf:\n",
    "        # Plot each time series separately\n",
    "        for column in df.columns:\n",
    "            fig, ax = plt.subplots(figsize=(12, 6))\n",
    "\n",
    "            # Plot the time series with bolder line\n",
    "            df[column].plot(ax=ax, linewidth=2.5)\n",
    "\n",
    "            # Customize the plot\n",
    "            ax.set_title(f\"{dataset}: {column}\", pad=20, fontweight='bold')\n",
    "            ax.set_xlabel(\"Time\", fontweight='bold')\n",
    "            ax.set_ylabel(\"Value\", fontweight='bold')\n",
    "            ax.grid(True, alpha=0.3)\n",
    "\n",
    "            # Make tick labels bolder\n",
    "            for tick in ax.get_xticklabels() + ax.get_yticklabels():\n",
    "                tick.set_fontweight('bold')\n",
    "\n",
    "            # Adjust layout\n",
    "            plt.tight_layout()\n",
    "\n",
    "            # Save to PDF\n",
    "            pdf.savefig(fig, bbox_inches='tight')\n",
    "            plt.close(fig)\n",
    "\n",
    "        # Add metadata to PDF\n",
    "        d = pdf.infodict()\n",
    "        d['Title'] = f'Time Series Plots - {dataset}'\n",
    "        d['Subject'] = 'Time Series Visualization'"
   ],
   "id": "a8ca2464791a0f66",
   "outputs": [],
   "execution_count": 12
  },
  {
   "metadata": {
    "ExecuteTime": {
     "end_time": "2025-04-23T09:35:50.862842Z",
     "start_time": "2025-04-23T09:35:35.517210Z"
    }
   },
   "cell_type": "code",
   "source": "plot_time_series(df, dataset, output_dir)",
   "id": "cd692e4140f06639",
   "outputs": [
    {
     "name": "stderr",
     "output_type": "stream",
     "text": [
      "/var/folders/mt/5h6lnpgn3j91r3p_y4f2n8hm0000gn/T/ipykernel_2862/781181782.py:44: UserWarning: Glyph 9654 (\\N{BLACK RIGHT-POINTING TRIANGLE}) missing from font(s) Arial.\n",
      "  plt.tight_layout()\n",
      "/var/folders/mt/5h6lnpgn3j91r3p_y4f2n8hm0000gn/T/ipykernel_2862/781181782.py:47: UserWarning: Glyph 9654 (\\N{BLACK RIGHT-POINTING TRIANGLE}) missing from font(s) Arial.\n",
      "  pdf.savefig(fig, bbox_inches='tight')\n",
      "/var/folders/mt/5h6lnpgn3j91r3p_y4f2n8hm0000gn/T/ipykernel_2862/781181782.py:47: UserWarning: Glyph 9654 (\\N{BLACK RIGHT-POINTING TRIANGLE}) missing from font(s) Arial.\n",
      "  pdf.savefig(fig, bbox_inches='tight')\n",
      "/var/folders/mt/5h6lnpgn3j91r3p_y4f2n8hm0000gn/T/ipykernel_2862/781181782.py:44: UserWarning: Glyph 9654 (\\N{BLACK RIGHT-POINTING TRIANGLE}) missing from font(s) Arial.\n",
      "  plt.tight_layout()\n",
      "/var/folders/mt/5h6lnpgn3j91r3p_y4f2n8hm0000gn/T/ipykernel_2862/781181782.py:47: UserWarning: Glyph 9654 (\\N{BLACK RIGHT-POINTING TRIANGLE}) missing from font(s) Arial.\n",
      "  pdf.savefig(fig, bbox_inches='tight')\n",
      "/var/folders/mt/5h6lnpgn3j91r3p_y4f2n8hm0000gn/T/ipykernel_2862/781181782.py:47: UserWarning: Glyph 9654 (\\N{BLACK RIGHT-POINTING TRIANGLE}) missing from font(s) Arial.\n",
      "  pdf.savefig(fig, bbox_inches='tight')\n",
      "/var/folders/mt/5h6lnpgn3j91r3p_y4f2n8hm0000gn/T/ipykernel_2862/781181782.py:44: UserWarning: Glyph 9654 (\\N{BLACK RIGHT-POINTING TRIANGLE}) missing from font(s) Arial.\n",
      "  plt.tight_layout()\n",
      "/var/folders/mt/5h6lnpgn3j91r3p_y4f2n8hm0000gn/T/ipykernel_2862/781181782.py:47: UserWarning: Glyph 9654 (\\N{BLACK RIGHT-POINTING TRIANGLE}) missing from font(s) Arial.\n",
      "  pdf.savefig(fig, bbox_inches='tight')\n",
      "/var/folders/mt/5h6lnpgn3j91r3p_y4f2n8hm0000gn/T/ipykernel_2862/781181782.py:47: UserWarning: Glyph 9654 (\\N{BLACK RIGHT-POINTING TRIANGLE}) missing from font(s) Arial.\n",
      "  pdf.savefig(fig, bbox_inches='tight')\n",
      "/var/folders/mt/5h6lnpgn3j91r3p_y4f2n8hm0000gn/T/ipykernel_2862/781181782.py:44: UserWarning: Glyph 9654 (\\N{BLACK RIGHT-POINTING TRIANGLE}) missing from font(s) Arial.\n",
      "  plt.tight_layout()\n",
      "/var/folders/mt/5h6lnpgn3j91r3p_y4f2n8hm0000gn/T/ipykernel_2862/781181782.py:47: UserWarning: Glyph 9654 (\\N{BLACK RIGHT-POINTING TRIANGLE}) missing from font(s) Arial.\n",
      "  pdf.savefig(fig, bbox_inches='tight')\n",
      "/var/folders/mt/5h6lnpgn3j91r3p_y4f2n8hm0000gn/T/ipykernel_2862/781181782.py:47: UserWarning: Glyph 9654 (\\N{BLACK RIGHT-POINTING TRIANGLE}) missing from font(s) Arial.\n",
      "  pdf.savefig(fig, bbox_inches='tight')\n",
      "/var/folders/mt/5h6lnpgn3j91r3p_y4f2n8hm0000gn/T/ipykernel_2862/781181782.py:44: UserWarning: Glyph 9654 (\\N{BLACK RIGHT-POINTING TRIANGLE}) missing from font(s) Arial.\n",
      "  plt.tight_layout()\n",
      "/var/folders/mt/5h6lnpgn3j91r3p_y4f2n8hm0000gn/T/ipykernel_2862/781181782.py:47: UserWarning: Glyph 9654 (\\N{BLACK RIGHT-POINTING TRIANGLE}) missing from font(s) Arial.\n",
      "  pdf.savefig(fig, bbox_inches='tight')\n",
      "/var/folders/mt/5h6lnpgn3j91r3p_y4f2n8hm0000gn/T/ipykernel_2862/781181782.py:47: UserWarning: Glyph 9654 (\\N{BLACK RIGHT-POINTING TRIANGLE}) missing from font(s) Arial.\n",
      "  pdf.savefig(fig, bbox_inches='tight')\n"
     ]
    }
   ],
   "execution_count": 13
  },
  {
   "metadata": {
    "ExecuteTime": {
     "end_time": "2025-04-03T13:24:08.947095Z",
     "start_time": "2025-04-03T13:24:05.732376Z"
    }
   },
   "cell_type": "code",
   "source": [
    "# output_dir = Path('../results/plots')\n",
    "# plot_time_series(df, dataset, output_dir)"
   ],
   "id": "58846cc1304a2c1e",
   "outputs": [
    {
     "name": "stderr",
     "output_type": "stream",
     "text": [
      "/var/folders/mt/5h6lnpgn3j91r3p_y4f2n8hm0000gn/T/ipykernel_28196/3660181594.py:32: UserWarning: Glyph 9654 (\\N{BLACK RIGHT-POINTING TRIANGLE}) missing from font(s) Arial.\n",
      "  plt.tight_layout()\n",
      "/var/folders/mt/5h6lnpgn3j91r3p_y4f2n8hm0000gn/T/ipykernel_28196/3660181594.py:35: UserWarning: Glyph 9654 (\\N{BLACK RIGHT-POINTING TRIANGLE}) missing from font(s) Arial.\n",
      "  pdf.savefig(fig)\n",
      "/var/folders/mt/5h6lnpgn3j91r3p_y4f2n8hm0000gn/T/ipykernel_28196/3660181594.py:35: UserWarning: Glyph 9654 (\\N{BLACK RIGHT-POINTING TRIANGLE}) missing from font(s) Arial.\n",
      "  pdf.savefig(fig)\n",
      "/var/folders/mt/5h6lnpgn3j91r3p_y4f2n8hm0000gn/T/ipykernel_28196/3660181594.py:32: UserWarning: Glyph 9654 (\\N{BLACK RIGHT-POINTING TRIANGLE}) missing from font(s) Arial.\n",
      "  plt.tight_layout()\n",
      "/var/folders/mt/5h6lnpgn3j91r3p_y4f2n8hm0000gn/T/ipykernel_28196/3660181594.py:35: UserWarning: Glyph 9654 (\\N{BLACK RIGHT-POINTING TRIANGLE}) missing from font(s) Arial.\n",
      "  pdf.savefig(fig)\n",
      "/var/folders/mt/5h6lnpgn3j91r3p_y4f2n8hm0000gn/T/ipykernel_28196/3660181594.py:35: UserWarning: Glyph 9654 (\\N{BLACK RIGHT-POINTING TRIANGLE}) missing from font(s) Arial.\n",
      "  pdf.savefig(fig)\n",
      "/var/folders/mt/5h6lnpgn3j91r3p_y4f2n8hm0000gn/T/ipykernel_28196/3660181594.py:32: UserWarning: Glyph 9654 (\\N{BLACK RIGHT-POINTING TRIANGLE}) missing from font(s) Arial.\n",
      "  plt.tight_layout()\n",
      "/var/folders/mt/5h6lnpgn3j91r3p_y4f2n8hm0000gn/T/ipykernel_28196/3660181594.py:35: UserWarning: Glyph 9654 (\\N{BLACK RIGHT-POINTING TRIANGLE}) missing from font(s) Arial.\n",
      "  pdf.savefig(fig)\n",
      "/var/folders/mt/5h6lnpgn3j91r3p_y4f2n8hm0000gn/T/ipykernel_28196/3660181594.py:35: UserWarning: Glyph 9654 (\\N{BLACK RIGHT-POINTING TRIANGLE}) missing from font(s) Arial.\n",
      "  pdf.savefig(fig)\n",
      "/var/folders/mt/5h6lnpgn3j91r3p_y4f2n8hm0000gn/T/ipykernel_28196/3660181594.py:32: UserWarning: Glyph 9654 (\\N{BLACK RIGHT-POINTING TRIANGLE}) missing from font(s) Arial.\n",
      "  plt.tight_layout()\n",
      "/var/folders/mt/5h6lnpgn3j91r3p_y4f2n8hm0000gn/T/ipykernel_28196/3660181594.py:35: UserWarning: Glyph 9654 (\\N{BLACK RIGHT-POINTING TRIANGLE}) missing from font(s) Arial.\n",
      "  pdf.savefig(fig)\n",
      "/var/folders/mt/5h6lnpgn3j91r3p_y4f2n8hm0000gn/T/ipykernel_28196/3660181594.py:35: UserWarning: Glyph 9654 (\\N{BLACK RIGHT-POINTING TRIANGLE}) missing from font(s) Arial.\n",
      "  pdf.savefig(fig)\n"
     ]
    }
   ],
   "execution_count": 28
  },
  {
   "metadata": {},
   "cell_type": "markdown",
   "source": "shorten the time frame to July 4, 2016 ~ July 24, 2016",
   "id": "7dd3d7aa5d0cefa2"
  },
  {
   "metadata": {
    "ExecuteTime": {
     "end_time": "2025-04-03T13:17:39.704844Z",
     "start_time": "2025-04-03T13:17:39.691886Z"
    }
   },
   "cell_type": "code",
   "source": "# df_short = df.loc['2016-07-04':'2016-07-24']",
   "id": "9be5951a768a35c3",
   "outputs": [],
   "execution_count": 11
  },
  {
   "metadata": {
    "ExecuteTime": {
     "end_time": "2025-04-03T13:17:44.569913Z",
     "start_time": "2025-04-03T13:17:43.219154Z"
    }
   },
   "cell_type": "code",
   "source": "# plot_time_series(df_short, 'BPI2017_short', output_dir)",
   "id": "62a8e309942d2643",
   "outputs": [
    {
     "name": "stderr",
     "output_type": "stream",
     "text": [
      "/var/folders/mt/5h6lnpgn3j91r3p_y4f2n8hm0000gn/T/ipykernel_28196/3660181594.py:32: UserWarning: Glyph 9654 (\\N{BLACK RIGHT-POINTING TRIANGLE}) missing from font(s) Arial.\n",
      "  plt.tight_layout()\n",
      "/var/folders/mt/5h6lnpgn3j91r3p_y4f2n8hm0000gn/T/ipykernel_28196/3660181594.py:35: UserWarning: Glyph 9654 (\\N{BLACK RIGHT-POINTING TRIANGLE}) missing from font(s) Arial.\n",
      "  pdf.savefig(fig)\n",
      "/var/folders/mt/5h6lnpgn3j91r3p_y4f2n8hm0000gn/T/ipykernel_28196/3660181594.py:35: UserWarning: Glyph 9654 (\\N{BLACK RIGHT-POINTING TRIANGLE}) missing from font(s) Arial.\n",
      "  pdf.savefig(fig)\n"
     ]
    }
   ],
   "execution_count": 12
  },
  {
   "metadata": {
    "ExecuteTime": {
     "end_time": "2025-04-03T11:40:19.793198Z",
     "start_time": "2025-04-03T11:40:19.609784Z"
    }
   },
   "cell_type": "code",
   "source": "# plot_combined_time_series(df_short, 'BPI2017_short', output_dir)",
   "id": "a870854e294e5e8f",
   "outputs": [
    {
     "name": "stderr",
     "output_type": "stream",
     "text": [
      "/var/folders/mt/5h6lnpgn3j91r3p_y4f2n8hm0000gn/T/ipykernel_24527/2667503029.py:33: UserWarning: Glyph 9654 (\\N{BLACK RIGHT-POINTING TRIANGLE}) missing from font(s) Arial.\n",
      "  plt.tight_layout()\n",
      "/var/folders/mt/5h6lnpgn3j91r3p_y4f2n8hm0000gn/T/ipykernel_24527/2667503029.py:37: UserWarning: Glyph 9654 (\\N{BLACK RIGHT-POINTING TRIANGLE}) missing from font(s) Arial.\n",
      "  pdf.savefig(fig, bbox_inches='tight')\n",
      "/var/folders/mt/5h6lnpgn3j91r3p_y4f2n8hm0000gn/T/ipykernel_24527/2667503029.py:37: UserWarning: Glyph 9654 (\\N{BLACK RIGHT-POINTING TRIANGLE}) missing from font(s) Arial.\n",
      "  pdf.savefig(fig, bbox_inches='tight')\n"
     ]
    }
   ],
   "execution_count": 14
  },
  {
   "metadata": {
    "ExecuteTime": {
     "end_time": "2025-04-03T13:20:39.723501Z",
     "start_time": "2025-04-03T13:20:39.720660Z"
    }
   },
   "cell_type": "code",
   "source": "",
   "id": "2d6d508983907a1d",
   "outputs": [],
   "execution_count": 19
  },
  {
   "metadata": {},
   "cell_type": "code",
   "outputs": [],
   "execution_count": 13,
   "source": [
    "# def plot_combined_time_series(df: pd.DataFrame, dataset: str, output_dir: Path):\n",
    "#     \"\"\"Plot all time series in a single plot and save to PDF\"\"\"\n",
    "#\n",
    "#     # Create output directory if it doesn't exist\n",
    "#     output_dir.mkdir(parents=True, exist_ok=True)\n",
    "#     pdf_path = output_dir / f\"{dataset}_combined_time_series.pdf\"\n",
    "#\n",
    "#     # Set style for better visualization\n",
    "#     plt.style.use('seaborn-v0_8-darkgrid')  # Updated style name\n",
    "#     sns.set_theme()  # Set seaborn defaults\n",
    "#\n",
    "#     # Create figure\n",
    "#     fig, ax = plt.subplots(figsize=(15, 8))\n",
    "#\n",
    "#     # Plot all time series\n",
    "#     for column in df.columns:\n",
    "#         df[column].plot(ax=ax, label=column, alpha=0.7)\n",
    "#\n",
    "#     # Customize the plot\n",
    "#     ax.set_title(f\"{dataset} - All Time Series\", pad=20)\n",
    "#     ax.set_xlabel(\"Time\")\n",
    "#     ax.set_ylabel(\"Value\")\n",
    "#     ax.grid(True, alpha=0.3)\n",
    "#\n",
    "#     # Add legend inside the plot in the upper right corner\n",
    "#     ax.legend(loc='upper right', fontsize='small')\n",
    "#\n",
    "#     # Rotate x-axis labels\n",
    "#     plt.xticks(rotation=45)\n",
    "#\n",
    "#     # Adjust layout to prevent label cutoff\n",
    "#     plt.tight_layout()\n",
    "#\n",
    "#     # Save to PDF\n",
    "#     with PdfPages(pdf_path) as pdf:\n",
    "#         pdf.savefig(fig, bbox_inches='tight')\n",
    "#\n",
    "#         # Add metadata\n",
    "#         d = pdf.infodict()\n",
    "#         d['Title'] = f'Combined Time Series Plot - {dataset}'\n",
    "#         d['Subject'] = 'Time Series Visualization'\n",
    "#\n",
    "#     plt.close(fig)"
   ],
   "id": "64c0d7fdd2c1a7d7"
  },
  {
   "metadata": {
    "ExecuteTime": {
     "end_time": "2025-04-03T11:50:17.947562Z",
     "start_time": "2025-04-03T11:50:17.942743Z"
    }
   },
   "cell_type": "code",
   "source": "df_short.columns",
   "id": "f3a986db66b01b4d",
   "outputs": [
    {
     "data": {
      "text/plain": [
       "Index(['▶ -> O_Create Offer', 'O_Create Offer -> O_Created',\n",
       "       'O_Created -> O_Sent (mail and online)',\n",
       "       'O_Sent (mail and online) -> O_Cancelled', 'O_Cancelled -> ■',\n",
       "       'O_Sent (mail and online) -> O_Returned', 'O_Returned -> O_Accepted',\n",
       "       'O_Accepted -> ■', 'O_Created -> O_Cancelled',\n",
       "       'O_Created -> O_Sent (online only)',\n",
       "       'O_Sent (online only) -> O_Returned', 'O_Returned -> O_Refused',\n",
       "       'O_Refused -> ■', 'O_Sent (mail and online) -> O_Refused',\n",
       "       'O_Returned -> O_Cancelled', 'O_Sent (online only) -> O_Cancelled',\n",
       "       'O_Returned -> ■', 'O_Sent (online only) -> O_Refused',\n",
       "       'O_Created -> O_Refused', 'O_Sent (mail and online) -> ■',\n",
       "       'O_Sent (online only) -> ■'],\n",
       "      dtype='object')"
      ]
     },
     "execution_count": 15,
     "metadata": {},
     "output_type": "execute_result"
    }
   ],
   "execution_count": 15
  },
  {
   "metadata": {},
   "cell_type": "markdown",
   "source": "select 3 DFs in this 3-week window",
   "id": "ab1f04d4deb9a43b"
  },
  {
   "metadata": {
    "ExecuteTime": {
     "end_time": "2025-04-03T13:20:43.050295Z",
     "start_time": "2025-04-03T13:20:42.939298Z"
    }
   },
   "cell_type": "code",
   "source": [
    "selected_columns = ['O_Sent (mail and online) -> O_Cancelled',  'O_Sent (mail and online) -> O_Returned', 'O_Returned -> O_Accepted']\n",
    "df_selected = df_short[selected_columns].copy()\n",
    "plot_selected_time_series(df_selected, 'BPI2017', output_dir)\n"
   ],
   "id": "71afa38321d778a5",
   "outputs": [],
   "execution_count": 20
  },
  {
   "metadata": {
    "ExecuteTime": {
     "end_time": "2025-04-03T12:02:09.745949Z",
     "start_time": "2025-04-03T12:02:09.742748Z"
    }
   },
   "cell_type": "code",
   "source": [
    "all_columns = df_short.columns.tolist()\n",
    "df_short_group1 = df_short[all_columns[2:8]]\n",
    "df_short_group2 = df_short[all_columns[8:16]]"
   ],
   "id": "b74dd7c415adb769",
   "outputs": [],
   "execution_count": 20
  },
  {
   "metadata": {
    "ExecuteTime": {
     "end_time": "2025-04-03T12:02:10.390296Z",
     "start_time": "2025-04-03T12:02:10.170555Z"
    }
   },
   "cell_type": "code",
   "source": [
    "plot_combined_time_series(df_short_group1, 'BPI2017_short_group_1', output_dir)\n",
    "plot_combined_time_series(df_short_group2, 'BPI2017_short_group_2', output_dir)"
   ],
   "id": "6c6c7398756a4cf9",
   "outputs": [],
   "execution_count": 21
  },
  {
   "metadata": {
    "ExecuteTime": {
     "end_time": "2025-04-03T12:10:52.383848Z",
     "start_time": "2025-04-03T12:10:52.265766Z"
    }
   },
   "cell_type": "code",
   "source": [
    "df_short_group3 = df_short[['O_Sent (mail and online) -> O_Cancelled', 'O_Sent (mail and online) -> O_Returned', 'O_Sent (online only) -> O_Returned', 'O_Returned -> O_Refused', 'O_Returned -> O_Accepted']]\n",
    "plot_combined_time_series(df_short_group3, 'BPI2017_short_group_3', output_dir)"
   ],
   "id": "e7c7378b640f65a2",
   "outputs": [],
   "execution_count": 22
  },
  {
   "metadata": {
    "ExecuteTime": {
     "end_time": "2025-04-03T12:32:53.557598Z",
     "start_time": "2025-04-03T12:32:53.554942Z"
    }
   },
   "cell_type": "code",
   "source": [
    "selected_columns = ['O_Sent (mail and online) -> O_Cancelled',  'O_Sent (mail and online) -> O_Returned', 'O_Returned -> O_Accepted']\n",
    "df_lagged = df_short[selected_columns].copy()"
   ],
   "id": "4b0cd84132f8a6cc",
   "outputs": [],
   "execution_count": 35
  },
  {
   "metadata": {
    "ExecuteTime": {
     "end_time": "2025-04-03T12:31:44.384447Z",
     "start_time": "2025-04-03T12:31:44.380089Z"
    }
   },
   "cell_type": "code",
   "source": [
    "# column_to_lag = 'O_Returned -> O_Accepted'\n",
    "# df_lagged[column_to_lag] = df_lagged[column_to_lag].shift(2)"
   ],
   "id": "d0ca7e83a8466c18",
   "outputs": [],
   "execution_count": 32
  },
  {
   "metadata": {
    "ExecuteTime": {
     "end_time": "2025-04-03T12:40:33.604046Z",
     "start_time": "2025-04-03T12:40:33.491457Z"
    }
   },
   "cell_type": "code",
   "source": "# plot_combined_time_series(df_lagged, 'BPI2017_short_lagged', output_dir)",
   "id": "7c7cc5d3c6a57bb8",
   "outputs": [],
   "execution_count": 39
  }
 ],
 "metadata": {
  "kernelspec": {
   "display_name": "Python 3",
   "language": "python",
   "name": "python3"
  },
  "language_info": {
   "codemirror_mode": {
    "name": "ipython",
    "version": 2
   },
   "file_extension": ".py",
   "mimetype": "text/x-python",
   "name": "python",
   "nbconvert_exporter": "python",
   "pygments_lexer": "ipython2",
   "version": "2.7.6"
  }
 },
 "nbformat": 4,
 "nbformat_minor": 5
}
