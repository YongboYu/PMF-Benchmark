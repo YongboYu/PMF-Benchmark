{
 "cells": [
  {
   "cell_type": "code",
   "id": "initial_id",
   "metadata": {
    "collapsed": true,
    "ExecuteTime": {
     "end_time": "2025-04-23T14:08:21.458007Z",
     "start_time": "2025-04-23T14:08:21.454561Z"
    }
   },
   "source": [
    "import pandas as pd\n",
    "import pm4py\n",
    "from pathlib import Path"
   ],
   "outputs": [],
   "execution_count": 4
  },
  {
   "metadata": {
    "ExecuteTime": {
     "end_time": "2025-04-23T14:08:21.838914Z",
     "start_time": "2025-04-23T14:08:21.837155Z"
    }
   },
   "cell_type": "code",
   "source": [
    "datasets = ['BPI2017', 'BPI2019_1', 'Hospital_Billing', 'Sepsis', 'RTFMP']\n",
    "raw_path = Path('../data/raw')\n",
    "processed_path = Path('../data/interim/processed_logs')"
   ],
   "id": "9143eedc8192cab3",
   "outputs": [],
   "execution_count": 5
  },
  {
   "metadata": {
    "ExecuteTime": {
     "end_time": "2025-04-23T14:08:22.638972Z",
     "start_time": "2025-04-23T14:08:22.635199Z"
    }
   },
   "cell_type": "code",
   "source": [
    "def get_log_stats(datasets):\n",
    "\n",
    "    log_stats = {}\n",
    "\n",
    "    for dataset in datasets:\n",
    "        log_stats[dataset] = {\n",
    "            'raw': {},\n",
    "            'processed': {}\n",
    "        }\n",
    "\n",
    "        raw_log = pm4py.read_xes(f'../data/raw/{dataset}.xes')\n",
    "        processed_log = pm4py.read_xes(f'../data/interim/processed_logs/{dataset}.xes')\n",
    "\n",
    "        for log_type, log in [('raw', raw_log), ('processed', processed_log)]:\n",
    "\n",
    "            timestamps = pm4py.get_event_attribute_values(log, 'time:timestamp')\n",
    "            time_length = (max(timestamps) - min(timestamps)).days\n",
    "            case_count = sum(pm4py.get_variants(log).values())\n",
    "            variant_count = len(pm4py.get_variants(log))\n",
    "            event_count = len(log)\n",
    "            activity_count = len(pm4py.get_event_attribute_values(log, 'concept:name'))\n",
    "            dfg, _, _ = pm4py.discover_dfg(log)\n",
    "            df_distinct_count = len(dfg)\n",
    "            df_total_count = sum(dfg.values())\n",
    "\n",
    "            log_stats[dataset][log_type] = {\n",
    "                'time length': time_length,\n",
    "                '# cases': case_count,\n",
    "                '# variants': variant_count,\n",
    "                '# events': event_count,\n",
    "                '# activities': activity_count,\n",
    "                '# DFs': df_distinct_count,\n",
    "                '# DFs occurrences': df_total_count\n",
    "            }\n",
    "\n",
    "    return log_stats"
   ],
   "id": "3ae3ecdf67aadaa2",
   "outputs": [],
   "execution_count": 6
  },
  {
   "metadata": {
    "ExecuteTime": {
     "end_time": "2025-04-23T14:12:25.926410Z",
     "start_time": "2025-04-23T14:08:26.788587Z"
    }
   },
   "cell_type": "code",
   "source": "log_stats = get_log_stats(datasets)",
   "id": "388a177e2382c880",
   "outputs": [
    {
     "data": {
      "text/plain": [
       "parsing log, completed traces ::   0%|          | 0/42995 [00:00<?, ?it/s]"
      ],
      "application/vnd.jupyter.widget-view+json": {
       "version_major": 2,
       "version_minor": 0,
       "model_id": "fe1dcd88b4a9472fb98d6b42e9761a6b"
      }
     },
     "metadata": {},
     "output_type": "display_data"
    },
    {
     "data": {
      "text/plain": [
       "parsing log, completed traces ::   0%|          | 0/40229 [00:00<?, ?it/s]"
      ],
      "application/vnd.jupyter.widget-view+json": {
       "version_major": 2,
       "version_minor": 0,
       "model_id": "1715842cc8654d698caa7fcd03e0512c"
      }
     },
     "metadata": {},
     "output_type": "display_data"
    },
    {
     "data": {
      "text/plain": [
       "parsing log, completed traces ::   0%|          | 0/221010 [00:00<?, ?it/s]"
      ],
      "application/vnd.jupyter.widget-view+json": {
       "version_major": 2,
       "version_minor": 0,
       "model_id": "569dc80de26b4a398d2b11ddf75f275c"
      }
     },
     "metadata": {},
     "output_type": "display_data"
    },
    {
     "data": {
      "text/plain": [
       "parsing log, completed traces ::   0%|          | 0/197521 [00:00<?, ?it/s]"
      ],
      "application/vnd.jupyter.widget-view+json": {
       "version_major": 2,
       "version_minor": 0,
       "model_id": "84fd64e328364bea88002c578765c0dc"
      }
     },
     "metadata": {},
     "output_type": "display_data"
    },
    {
     "data": {
      "text/plain": [
       "parsing log, completed traces ::   0%|          | 0/90604 [00:00<?, ?it/s]"
      ],
      "application/vnd.jupyter.widget-view+json": {
       "version_major": 2,
       "version_minor": 0,
       "model_id": "8eaa32b9b8e746b789400fd771e0e319"
      }
     },
     "metadata": {},
     "output_type": "display_data"
    },
    {
     "data": {
      "text/plain": [
       "parsing log, completed traces ::   0%|          | 0/78828 [00:00<?, ?it/s]"
      ],
      "application/vnd.jupyter.widget-view+json": {
       "version_major": 2,
       "version_minor": 0,
       "model_id": "ffc4c12eec454105a4b0c62702a10aa7"
      }
     },
     "metadata": {},
     "output_type": "display_data"
    },
    {
     "data": {
      "text/plain": [
       "parsing log, completed traces ::   0%|          | 0/1050 [00:00<?, ?it/s]"
      ],
      "application/vnd.jupyter.widget-view+json": {
       "version_major": 2,
       "version_minor": 0,
       "model_id": "da6af19b9b4b4ac08ea88668f40af5e2"
      }
     },
     "metadata": {},
     "output_type": "display_data"
    },
    {
     "data": {
      "text/plain": [
       "parsing log, completed traces ::   0%|          | 0/999 [00:00<?, ?it/s]"
      ],
      "application/vnd.jupyter.widget-view+json": {
       "version_major": 2,
       "version_minor": 0,
       "model_id": "b7361979eba6421e812b0e161e931f68"
      }
     },
     "metadata": {},
     "output_type": "display_data"
    },
    {
     "data": {
      "text/plain": [
       "parsing log, completed traces ::   0%|          | 0/138260 [00:00<?, ?it/s]"
      ],
      "application/vnd.jupyter.widget-view+json": {
       "version_major": 2,
       "version_minor": 0,
       "model_id": "527954f472924b298b665c847768ac44"
      }
     },
     "metadata": {},
     "output_type": "display_data"
    },
    {
     "data": {
      "text/plain": [
       "parsing log, completed traces ::   0%|          | 0/112368 [00:00<?, ?it/s]"
      ],
      "application/vnd.jupyter.widget-view+json": {
       "version_major": 2,
       "version_minor": 0,
       "model_id": "c7739dbc517f496db8cf1bd6cf193128"
      }
     },
     "metadata": {},
     "output_type": "display_data"
    }
   ],
   "execution_count": 7
  },
  {
   "metadata": {
    "ExecuteTime": {
     "end_time": "2025-04-23T14:12:52.168205Z",
     "start_time": "2025-04-23T14:12:52.163959Z"
    }
   },
   "cell_type": "code",
   "source": [
    "def save_stats_to_csv(stats_dict, output_path='event_log_stats.csv'):\n",
    "    \"\"\"\n",
    "    Convert the nested dictionary of event log statistics to CSV format and save it.\n",
    "\n",
    "    Parameters:\n",
    "    -----------\n",
    "    stats_dict : dict\n",
    "        Nested dictionary with dataset statistics\n",
    "    output_path : str or Path\n",
    "        Path where the CSV file will be saved\n",
    "    \"\"\"\n",
    "    # Create a list to hold flattened records\n",
    "    records = []\n",
    "\n",
    "    # Iterate through the nested dictionary and flatten it\n",
    "    for dataset, versions in stats_dict.items():\n",
    "        for version, stats in versions.items():\n",
    "            # Skip entries with errors\n",
    "            if 'error' in stats:\n",
    "                continue\n",
    "\n",
    "            # Create a flat record with dataset and version\n",
    "            record = {'dataset': dataset, 'version': version}\n",
    "\n",
    "            # Add all statistics to the record\n",
    "            record.update(stats)\n",
    "\n",
    "            # Add to the list of records\n",
    "            records.append(record)\n",
    "\n",
    "    # Convert to DataFrame\n",
    "    df = pd.DataFrame(records)\n",
    "\n",
    "    # Reorder columns for better readability\n",
    "    if 'dataset' in df.columns and 'version' in df.columns:\n",
    "        cols = ['dataset', 'version']\n",
    "        other_cols = [col for col in df.columns if col not in cols]\n",
    "        df = df[cols + other_cols]\n",
    "\n",
    "    # Save to CSV\n",
    "    df.to_csv(output_path, index=False)\n",
    "    print(f\"Statistics saved to {output_path}\")\n",
    "\n",
    "    return df"
   ],
   "id": "4d47204ba1293311",
   "outputs": [],
   "execution_count": 8
  },
  {
   "metadata": {
    "ExecuteTime": {
     "end_time": "2025-04-23T14:13:03.634166Z",
     "start_time": "2025-04-23T14:13:03.614221Z"
    }
   },
   "cell_type": "code",
   "source": "stats_df = save_stats_to_csv(log_stats, output_path='../logs/data_preprocess/event_log_statistics.csv')",
   "id": "ba125ee2099f184d",
   "outputs": [
    {
     "name": "stdout",
     "output_type": "stream",
     "text": [
      "Statistics saved to ../logs/data_preprocess/event_log_statistics.csv\n"
     ]
    }
   ],
   "execution_count": 9
  },
  {
   "metadata": {},
   "cell_type": "code",
   "outputs": [],
   "execution_count": null,
   "source": "",
   "id": "d7bdf84b07947a84"
  }
 ],
 "metadata": {
  "kernelspec": {
   "display_name": "Python 3",
   "language": "python",
   "name": "python3"
  },
  "language_info": {
   "codemirror_mode": {
    "name": "ipython",
    "version": 2
   },
   "file_extension": ".py",
   "mimetype": "text/x-python",
   "name": "python",
   "nbconvert_exporter": "python",
   "pygments_lexer": "ipython2",
   "version": "2.7.6"
  }
 },
 "nbformat": 4,
 "nbformat_minor": 5
}
